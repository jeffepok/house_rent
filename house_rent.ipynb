{
  "nbformat": 4,
  "nbformat_minor": 0,
  "metadata": {
    "colab": {
      "name": "house_rent.ipynb",
      "provenance": [],
      "collapsed_sections": []
    },
    "kernelspec": {
      "name": "python3",
      "display_name": "Python 3"
    }
  },
  "cells": [
    {
      "cell_type": "code",
      "metadata": {
        "id": "pCzQG6CZmvoI"
      },
      "source": [
        "from bs4 import BeautifulSoup\n",
        "import requests\n",
        "import lxml\n",
        "import pandas as pd\n",
        "import re\n",
        "data = []\n",
        "page_number = 1\n",
        "\n",
        "#for each page\n",
        "while True:\n",
        "  url = f\"https://meqasa.com/houses-for-rent-in-ghana?w={page_number}\"\n",
        "  source = requests.get(url)\n",
        "  soup = BeautifulSoup(source.content, \"lxml\")\n",
        "  #Set base_url\n",
        "  base_url = \"https://meqasa.com\"\n",
        "  listing = soup.find(\"div\", class_ = \"filtRpg\").find_all(\"div\", class_ = \"mqs-prop-dt-wrapper\")\n",
        "\n",
        "  #for each house\n",
        "  for house_details in listing:\n",
        "    property_name = house_details.find(\"a\").text\n",
        "    house_url = base_url + house_details.h2.a['href']\n",
        "    price = house_details.find(\"p\", class_ = \"h3\").span.next.next\n",
        "    #use regex to take off the currency from price\n",
        "    price_only = re.sub(r\"[^0-9]\", '', str(price))\n",
        "    try:\n",
        "      rent_period =  house_details.find(\"p\", class_ = \"h3\").span.next.next.next.text.replace(\"/ \", '')\n",
        "    except:\n",
        "      rent_period = \"N/A\"\n",
        "    bed = house_details.ul.find(\"li\", class_ = \"bed\").text\n",
        "    try:\n",
        "      garage = house_details.ul.find(\"li\", class_ = \"garage\").text # get the garage\n",
        "    except:\n",
        "      garage = \"0\"\n",
        "    try:\n",
        "      area = house_details.ul.find(\"li\", class_ = \"area\").text\n",
        "    except:\n",
        "      area = \"N/A\"\n",
        "    try:\n",
        "      shower = house_details.ul.find(\"li\", class_ = \"shower\").text\n",
        "    except:\n",
        "      shower = \"N/A\"\n",
        "    # Use regular expression to extract currency from price\n",
        "    currency = re.sub(r\"[0-9,]\", '', str(price)).strip()\n",
        "    # go to individual links to get address, description and time posted\n",
        "    house_page = requests.get(house_url)\n",
        "    house_soup = BeautifulSoup(house_page.content, 'lxml')\n",
        "    try:\n",
        "      description = house_soup.find(\"div\", class_ = \"description\").p.text\n",
        "    except: \n",
        "      description = \"N/A\"\n",
        "    try:\n",
        "      time_posted = \" \".join(house_soup.find(\"aside\").p.text.split(\" \")[2:5])\n",
        "    except:\n",
        "      time_posted = \"N/A\"\n",
        "    for td in house_soup.find_all('tr'):\n",
        "      if td.find_all(\"td\")[0].text == \"Address\":\n",
        "        address = td.find_all(\"td\")[1].text\n",
        "    \n",
        "    data.append({\n",
        "    \"property\": property_name,\n",
        "    \"beds\": bed,\n",
        "    \"showers\": shower,\n",
        "    \"garages\": garage,\n",
        "    \"area\" : area,\n",
        "    \"description\": description,\n",
        "    \"price\": price_only,\n",
        "    \"currency\": currency,\n",
        "    \"rent_period\": rent_period,\n",
        "    \"url\": house_url,\n",
        "    \"address\": address,\n",
        "    \"time_posted\": time_posted,\n",
        "    \"page_number\": page_number\n",
        "    })\n",
        "    \n",
        "  page_number += 1\n",
        "  if page_number > 1:\n",
        "    break\n",
        "df = pd.DataFrame(data)\n",
        "df.to_csv(\"house_rent_all.csv\")"
      ],
      "execution_count": null,
      "outputs": []
    },
    {
      "cell_type": "code",
      "metadata": {
        "id": "ZCAnvK632CTG"
      },
      "source": [
        "df = pd.DataFrame(data)"
      ],
      "execution_count": null,
      "outputs": []
    },
    {
      "cell_type": "code",
      "metadata": {
        "id": "IRS9FdYd2nsu"
      },
      "source": [
        "df.to_csv(\"house_rent_all.csv\")"
      ],
      "execution_count": null,
      "outputs": []
    },
    {
      "cell_type": "code",
      "metadata": {
        "id": "YVPi_HxX3BnI"
      },
      "source": [
        "#!jupyter nbconvert --to script \"/content/drive/MyDrive/Colab Notebooks/house_rent.ipynb\""
      ],
      "execution_count": null,
      "outputs": []
    }
  ]
}